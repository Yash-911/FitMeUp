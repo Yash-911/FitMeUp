{
  "nbformat": 4,
  "nbformat_minor": 0,
  "metadata": {
    "colab": {
      "name": "ID3.ipynb",
      "provenance": [],
      "collapsed_sections": [],
      "authorship_tag": "ABX9TyOEv/aOT3yOXTnemz9F5rX4",
      "include_colab_link": true
    },
    "kernelspec": {
      "name": "python3",
      "display_name": "Python 3"
    }
  },
  "cells": [
    {
      "cell_type": "markdown",
      "metadata": {
        "id": "view-in-github",
        "colab_type": "text"
      },
      "source": [
        "<a href=\"https://colab.research.google.com/github/Yash-911/FitMeUp/blob/master/ID3.ipynb\" target=\"_parent\"><img src=\"https://colab.research.google.com/assets/colab-badge.svg\" alt=\"Open In Colab\"/></a>"
      ]
    },
    {
      "cell_type": "code",
      "metadata": {
        "id": "ov7y8VB3q4e-"
      },
      "source": [
        "import pandas as pd\n",
        "import numpy as np\n",
        "eps = np.finfo(float).eps\n",
        "from numpy import log2 as log"
      ],
      "execution_count": 57,
      "outputs": []
    },
    {
      "cell_type": "code",
      "metadata": {
        "id": "DTor8oseruqd"
      },
      "source": [
        "df=pd.read_csv(r'Electronics.csv', index_col=\"Rid\")"
      ],
      "execution_count": 58,
      "outputs": []
    },
    {
      "cell_type": "code",
      "metadata": {
        "id": "TjU0GL9Hr0Cs"
      },
      "source": [
        "#Entropy of the whole dataset\n",
        "def entropy_whole(df):\n",
        "  entropy_data=0\n",
        "  values = df['class:buys_computer'].unique()  \n",
        "\n",
        "  for value in values:\n",
        "    fraction = df['class:buys_computer'].value_counts()[value]/len(df['class:buys_computer'])  \n",
        "    entropy_data += -fraction*np.log2(fraction)\n",
        "  return entropy_data"
      ],
      "execution_count": 66,
      "outputs": []
    },
    {
      "cell_type": "code",
      "metadata": {
        "id": "n2O8TfgLr6VM"
      },
      "source": [
        "#callculating entropy of attributes\n",
        "\n",
        "def entropy_attr(df,attribute):\n",
        "    target_variables = df['class:buys_computer'].unique()\n",
        "    variables = df[attribute].unique()\n",
        "\n",
        "\n",
        "    entropy_attribute = 0\n",
        "    for variable in variables:\n",
        "        entropy_each_feature = 0\n",
        "        for target_variable in target_variables:\n",
        "            df = df[~df.index.duplicated()]\n",
        "            num = len(df[attribute][df[attribute]==variable][df['class:buys_computer'] ==target_variable]) \n",
        "            den = len(df[attribute][df[attribute]==variable])  \n",
        "            fraction = num/(den+eps)  \n",
        "            entropy_each_feature += -fraction*log(fraction+eps)\n",
        "        fraction2 = den/len(df)\n",
        "        entropy_attribute += -fraction2*entropy_each_feature \n",
        "\n",
        "    return(abs(entropy_attribute))"
      ],
      "execution_count": 67,
      "outputs": []
    },
    {
      "cell_type": "code",
      "metadata": {
        "id": "f-znuYifr8f1"
      },
      "source": [
        "#callculating gain of attributes\n",
        "def ig(e_dataset,e_attr):\n",
        "    return(e_dataset-e_attr)"
      ],
      "execution_count": 61,
      "outputs": []
    },
    {
      "cell_type": "code",
      "metadata": {
        "id": "11wenkWItBc0"
      },
      "source": [
        "#callculating splitting\n",
        "def full_prog(df):\n",
        "  print(df.head())\n",
        "  if len(df['class:buys_computer'].value_counts().tolist())>1:\n",
        "    entropy_data=entropy_whole(df)\n",
        "    a_entropy = {k:entropy_attr(df,k) for k in df.keys()[:-1]}\n",
        "    IG = {k:ig(entropy_data,a_entropy[k]) for k in a_entropy}\n",
        "    if IG:\n",
        "      Split_Key = max(IG, key=IG.get) \n",
        "      print(\"\\n\\nSplitting decision is made on:\", Split_Key,'\\n')\n",
        "      df.set_index(keys=[Split_Key],inplace=True)\n",
        "      uq=df.index.unique()\n",
        "      for i in range(len(uq)):\n",
        "          print(Split_Key,'->','Category:',uq[i])\n",
        "          print(\"\\n\")\n",
        "          df1 = df.loc[df.index==uq[i]]\n",
        "          full_prog(df1)\n",
        "    else:\n",
        "      print(\"\\nSplitting not possible\")\n",
        "      print('\\n')\n",
        "  else:\n",
        "      print(\"\\nSplitting not possible\")\n",
        "      print('\\n')\n"
      ],
      "execution_count": 62,
      "outputs": []
    },
    {
      "cell_type": "code",
      "metadata": {
        "id": "nnIVhIF0z6AK",
        "outputId": "d114383f-765a-4323-8ff5-1ce19e56fff7",
        "colab": {
          "base_uri": "https://localhost:8080/",
          "height": 1000
        }
      },
      "source": [
        "full_prog(df)"
      ],
      "execution_count": 65,
      "outputs": [
        {
          "output_type": "stream",
          "text": [
            "       student credit_rating class:buys_computer\n",
            "income                                          \n",
            "high        no          fair                  no\n",
            "high        no     excellent                  no\n",
            "high        no          fair                 yes\n",
            "medium      no          fair                 yes\n",
            "low        yes          fair                 yes\n",
            "\n",
            "\n",
            "Splitting decision is made on: student \n",
            "\n",
            "student -> Category: no\n",
            "\n",
            "\n",
            "        credit_rating class:buys_computer\n",
            "student                                  \n",
            "no               fair                  no\n",
            "no          excellent                  no\n",
            "no               fair                 yes\n",
            "no               fair                 yes\n",
            "no               fair                  no\n",
            "\n",
            "\n",
            "Splitting decision is made on: credit_rating \n",
            "\n",
            "credit_rating -> Category: fair\n",
            "\n",
            "\n",
            "              class:buys_computer\n",
            "credit_rating                    \n",
            "fair                           no\n",
            "fair                          yes\n",
            "fair                          yes\n",
            "fair                           no\n",
            "\n",
            "Splitting not possible\n",
            "\n",
            "\n",
            "credit_rating -> Category: excellent\n",
            "\n",
            "\n",
            "              class:buys_computer\n",
            "credit_rating                    \n",
            "excellent                      no\n",
            "excellent                     yes\n",
            "excellent                      no\n",
            "\n",
            "Splitting not possible\n",
            "\n",
            "\n",
            "student -> Category: yes\n",
            "\n",
            "\n",
            "        credit_rating class:buys_computer\n",
            "student                                  \n",
            "yes              fair                 yes\n",
            "yes         excellent                  no\n",
            "yes         excellent                 yes\n",
            "yes              fair                 yes\n",
            "yes              fair                 yes\n",
            "\n",
            "\n",
            "Splitting decision is made on: credit_rating \n",
            "\n",
            "credit_rating -> Category: fair\n",
            "\n",
            "\n",
            "              class:buys_computer\n",
            "credit_rating                    \n",
            "fair                          yes\n",
            "fair                          yes\n",
            "fair                          yes\n",
            "fair                          yes\n",
            "\n",
            "Splitting not possible\n",
            "\n",
            "\n",
            "credit_rating -> Category: excellent\n",
            "\n",
            "\n",
            "              class:buys_computer\n",
            "credit_rating                    \n",
            "excellent                      no\n",
            "excellent                     yes\n",
            "excellent                     yes\n",
            "\n",
            "Splitting not possible\n",
            "\n",
            "\n"
          ],
          "name": "stdout"
        }
      ]
    }
  ]
}